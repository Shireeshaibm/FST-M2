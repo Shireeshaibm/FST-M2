{
 "cells": [
  {
   "cell_type": "code",
   "execution_count": null,
   "metadata": {},
   "outputs": [],
   "source": [
    "import findspark\n",
    "from pyspark.sql import SparkSession\n",
    "from pyspark.sql.functions import *\n",
    "\n",
    "# Initialize spark driver\n",
    "findspark.init()\n",
    "spark = SparkSession.builder.master(\"local\").appName(\"FSTExample\").getOrCreate()\n",
    "\n",
    "# Find all Thriller movies with a Metascore greater than 75\n",
    "inputFile = spark.read.option(\"header\", True).csv(\"./Inputs/movies.csv\")\n",
    "inputFile.select(\"Title\", \"Genre\", \"Metascore\").filter((\"Metascore > 75 and Genre like '%Thriller%'\")).sort(desc(\"Metascore\")).show()"
   ]
  }
 ],
 "metadata": {
  "language_info": {
   "name": "python"
  }
 },
 "nbformat": 4,
 "nbformat_minor": 2
}
