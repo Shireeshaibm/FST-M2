{
 "cells": [
  {
   "cell_type": "code",
   "execution_count": null,
   "metadata": {},
   "outputs": [],
   "source": [
    "import findspark\n",
    "from pyspark.sql import SparkSession\n",
    "from pyspark.sql.functions import *\n",
    "\n",
    "# Initialize spark driver\n",
    "findspark.init()\n",
    "spark = SparkSession.builder.master(\"local\").appName(\"FSTExample\").getOrCreate()\n",
    "\n",
    "# To display the schema of the dataframe\n",
    "df = spark.read.option('multiline', 'true').json('./Inputs/zipcodes.json')\n",
    "df.printSchema()\n",
    "\n",
    "# To select data from the table\n",
    "zc = df.select(df.RecordNumber, df.Zipcode, df.ZipCodeType, df.City, df.State, df.Country, df.WorldRegion, df.Decommisioned)\n",
    "zc.show()\n",
    "\n",
    "# To filter records\n",
    "zc.filter((df.State == 'PR') | (df.State == 'TX')).show()\n",
    "zc.filter((df.State == 'PR') & (df.Zipcode == 709)).show()\n",
    "\n",
    "# To sort data\n",
    "zc.orderBy(df.Zipcode.asc()).show()\n",
    "\n",
    "# To perform aggregate operations\n",
    "zc.groupBy('State').count().orderBy('count', ascending=False).show()"
   ]
  }
 ],
 "metadata": {
  "language_info": {
   "name": "python"
  }
 },
 "nbformat": 4,
 "nbformat_minor": 2
}
